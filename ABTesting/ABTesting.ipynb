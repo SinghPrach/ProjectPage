{
  "nbformat": 4,
  "nbformat_minor": 0,
  "metadata": {
    "colab": {
      "provenance": []
    },
    "kernelspec": {
      "name": "python3",
      "display_name": "Python 3"
    },
    "language_info": {
      "name": "python"
    }
  },
  "cells": [
    {
      "cell_type": "code",
      "execution_count": 25,
      "metadata": {
        "id": "FLvLkvY7vTUB"
      },
      "outputs": [],
      "source": [
        "import pandas as pd\n",
        "import numpy as np\n",
        "import matplotlib.pyplot as plt\n",
        "import seaborn as sns\n",
        "\n",
        "np.random.seed(42)"
      ]
    },
    {
      "cell_type": "code",
      "source": [
        "data = pd.DataFrame({\n",
        "    'ad_version': ['A'] * 1000 + ['B'] * 1000,\n",
        "    'clicks': np.concatenate([\n",
        "        np.random.binomial(1, 0.05, 1000),  # 5% click rate for version A\n",
        "        np.random.binomial(1, 0.07, 1000)   # 7% click rate for version B\n",
        "    ]),\n",
        "    'conversions': np.concatenate([\n",
        "        np.random.binomial(1, 0.02, 1000),  # 2% conversion rate for version A\n",
        "        np.random.binomial(1, 0.03, 1000)   # 3% conversion rate for version B\n",
        "    ])\n",
        "})"
      ],
      "metadata": {
        "id": "PVjD0AvKwM6K"
      },
      "execution_count": 24,
      "outputs": []
    },
    {
      "cell_type": "code",
      "source": [
        "plt.figure(figsize=(12, 5))\n",
        "\n",
        "plt.subplot(1, 2, 1)\n",
        "sns.countplot(x='ad_version', hue='clicks', data=data)\n",
        "plt.title('Clicks by Ad Version')\n",
        "\n",
        "plt.subplot(1, 2, 2)\n",
        "sns.countplot(x='ad_version', hue='conversions', data=data)\n",
        "plt.title('Conversions by Ad Version')\n",
        "\n",
        "plt.tight_layout()\n",
        "plt.show()"
      ],
      "metadata": {
        "colab": {
          "base_uri": "https://localhost:8080/",
          "height": 472
        },
        "id": "-jxumulewXmm",
        "outputId": "0bfa011a-3bee-4e08-fcb8-1829d9b91956"
      },
      "execution_count": 18,
      "outputs": [
        {
          "output_type": "display_data",
          "data": {
            "text/plain": [
              "<Figure size 640x480 with 1 Axes>"
            ],
            "image/png": "[encoded data removed]"
          },
          "metadata": {}
        }
      ]
    },
    {
      "cell_type": "code",
      "source": [
        "ctr = data.groupby('ad_version')['clicks'].mean()\n",
        "conversion_rate = data.groupby('ad_version')['conversions'].mean()\n",
        "\n",
        "print(f\"CTR:\\n{ctr}\")\n",
        "print(f\"Conversion Rate:\\n{conversion_rate}\")"
      ],
      "metadata": {
        "colab": {
          "base_uri": "https://localhost:8080/"
        },
        "id": "bnYb8l79wexq",
        "outputId": "24a6bc41-57b2-4b17-bf9f-43831fac7ade"
      },
      "execution_count": 26,
      "outputs": [
        {
          "output_type": "stream",
          "name": "stdout",
          "text": [
            "CTR:\n",
            "ad_version\n",
            "A    0.046\n",
            "B    0.080\n",
            "Name: clicks, dtype: float64\n",
            "Conversion Rate:\n",
            "ad_version\n",
            "A    0.019\n",
            "B    0.024\n",
            "Name: conversions, dtype: float64\n"
          ]
        }
      ]
    },
    {
      "cell_type": "code",
      "source": [
        "from scipy.stats import chi2_contingency\n",
        "\n",
        "# Clicks contingency table\n",
        "clicks_contingency = pd.crosstab(data['ad_version'], data['clicks'])\n",
        "chi2_clicks, p_clicks, _, _ = chi2_contingency(clicks_contingency)\n",
        "print(f\"Clicks: Chi2 = {chi2_clicks}, p-value = {p_clicks}\")\n",
        "\n",
        "# Conversions contingency table\n",
        "conversions_contingency = pd.crosstab(data['ad_version'], data['conversions'])\n",
        "chi2_conversions, p_conversions, _, _ = chi2_contingency(conversions_contingency)\n",
        "print(f\"Conversions: Chi2 = {chi2_conversions}, p-value = {p_conversions}\")"
      ],
      "metadata": {
        "colab": {
          "base_uri": "https://localhost:8080/"
        },
        "id": "fOKU2LvZwgWt",
        "outputId": "5fe60056-941c-499e-c2a0-f808fbfefc7d"
      },
      "execution_count": 27,
      "outputs": [
        {
          "output_type": "stream",
          "name": "stdout",
          "text": [
            "Clicks: Chi2 = 9.223967068150632, p-value = 0.002388674162016227\n",
            "Conversions: Chi2 = 0.3802688025097741, p-value = 0.5374594129093846\n"
          ]
        }
      ]
    },
    {
      "cell_type": "code",
      "source": [],
      "metadata": {
        "id": "97t2VghJxB2P"
      },
      "execution_count": null,
      "outputs": []
    }
  ]
}